{
 "cells": [
  {
   "cell_type": "code",
   "execution_count": 46,
   "metadata": {},
   "outputs": [],
   "source": [
    "def encode(txt, kluch):                                                                  \n",
    "    new_txt = \"\"                                                                         \n",
    "    for i in range(0, len(txt)):                                                         \n",
    "        kodutf = ord(txt[i])                                                             \n",
    "        if kodutf in range(65, 91):                                                         # код - в позицию в алфавите \n",
    "            new_num = (kodutf - 65 + kluch) % 26                                            # сдвиг\n",
    "            new_sym = new_num + 65                                                          # обратно в юникод \n",
    "            new_txt = new_txt + chr(new_sym)                                                # получает символ из кода\n",
    "        elif kodutf in range(97, 123):\n",
    "            new_num = (kodutf - 97 + kluch) % 26\n",
    "            new_sym = new_num + 97\n",
    "            new_txt = new_txt + chr(new_sym)\n",
    "        elif kodutf in range(1040, 1072):\n",
    "            new_num = (kodutf - 1040 + kluch) % 33\n",
    "            new_sym = new_num + 1040\n",
    "            new_txt = new_txt + chr(new_sym)\n",
    "        elif kodutf in range(1072, 1104):\n",
    "            new_num = (kodutf - 1072 + kluch) % 33\n",
    "            new_sym = new_num + 1072\n",
    "            new_txt = new_txt + chr(new_sym)\n",
    "        else:\n",
    "            new_txt = new_txt + txt[i]\n",
    "    return new_txt\n",
    "\n",
    "def decode(txt, kluch):\n",
    "    new_txt = \"\"\n",
    "    for i in range(0, len(txt)):\n",
    "        kodutf = ord(txt[i])\n",
    "        if kodutf in range(65, 91):\n",
    "            new_num = (kodutf - 65 - kluch) % 26\n",
    "            new_sym = new_num + 65\n",
    "            new_txt = new_txt + chr(new_sym)\n",
    "        elif kodutf in range(97, 123):\n",
    "            new_num = (kodutf - 97 - kluch) % 26\n",
    "            new_sym = new_num + 97\n",
    "            new_txt = new_txt + chr(new_sym)\n",
    "        elif kodutf in range(1040, 1072):\n",
    "            new_num = (kodutf - 1040 - kluch) % 33\n",
    "            new_sym = new_num + 1040\n",
    "            new_txt = new_txt + chr(new_sym)\n",
    "        elif kodutf in range(1072, 1104):\n",
    "            new_num = (kodutf - 1072 - kluch) % 33\n",
    "            new_sym = new_num + 1072\n",
    "            new_txt = new_txt + chr(new_sym)\n",
    "        else:\n",
    "            new_txt = new_txt + txt[i]\n",
    "    return new_txt"
   ]
  },
  {
   "cell_type": "code",
   "execution_count": 47,
   "metadata": {},
   "outputs": [],
   "source": [
    "def read_text(filename: str) -> str:\n",
    "    with open(filename, \"r\", encoding=\"utf-8\") as file:\n",
    "        text = file.read()\n",
    "    return text\n",
    "\n",
    "def write_text(filename: str, text):\n",
    "    with open(filename, 'w+', encoding=\"utf-8\") as file:\n",
    "        file.write(text)"
   ]
  },
  {
   "cell_type": "code",
   "execution_count": 48,
   "metadata": {},
   "outputs": [],
   "source": [
    "file1 = read_text('Original_text.txt') \n",
    "shift = int(input(\"Введите сдвиг: \"))\n",
    "coded_text = encode(file1, shift)\n",
    "write_text(\"Coded_text.txt\", coded_text)"
   ]
  },
  {
   "cell_type": "code",
   "execution_count": 49,
   "metadata": {},
   "outputs": [],
   "source": [
    "file2 = read_text('Coded_text.txt') \n",
    "shift = int(input(\"Введите сдвиг: \"))\n",
    "decoded_text = decode(file2, shift)\n",
    "write_text(\"Decoded_text.txt\", decoded_text)"
   ]
  }
 ],
 "metadata": {
  "kernelspec": {
   "display_name": "Python 3",
   "language": "python",
   "name": "python3"
  },
  "language_info": {
   "codemirror_mode": {
    "name": "ipython",
    "version": 3
   },
   "file_extension": ".py",
   "mimetype": "text/x-python",
   "name": "python",
   "nbconvert_exporter": "python",
   "pygments_lexer": "ipython3",
   "version": "3.13.7"
  },
  "orig_nbformat": 4
 },
 "nbformat": 4,
 "nbformat_minor": 2
}
